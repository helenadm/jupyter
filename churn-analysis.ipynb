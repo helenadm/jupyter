{
 "cells": [
  {
   "cell_type": "markdown",
   "metadata": {},
   "source": [
    "### Report: Churn Analysis"
   ]
  },
  {
   "cell_type": "code",
   "execution_count": 111,
   "metadata": {},
   "outputs": [
    {
     "data": {
      "text/html": [
       "<iframe id=\"igraph\" scrolling=\"no\" style=\"border:none;\" seamless=\"seamless\" src=\"https://plot.ly/~KyleOS/56.embed\" height=\"500px\" width=\"800px\"></iframe>"
      ],
      "text/plain": [
       "<plotly.tools.PlotlyDisplay object>"
      ]
     },
     "execution_count": 111,
     "metadata": {},
     "output_type": "execute_result"
    }
   ],
   "source": [
    "import plotly.plotly as py\n",
    "import plotly.figure_factory as ff\n",
    "py.sign_in('KyleOS', 'l0f1C52Wn3pRvVu3N9q9')\n",
    "\n",
    "import numpy as np\n",
    "import pandas as pd\n",
    "\n",
    "dataframe = pd.DataFrame(np.random.randn(64, 3),\n",
    "                         columns=['International', 'Domestic', 'Global'])\n",
    "\n",
    "dataframe['Customer-Segment'] = pd.Series(['EE Churn', 'EE Churn', 'ES Churn', 'IC Churn',\n",
    "                                'SM Churn','IS Churn', 'AC Churn', 'JM Churn', 'EE Churn', \n",
    "                                'EE Churn', 'ES Churn', 'IC Churn','SM Churn','IS Churn', \n",
    "                                'AC Churn', 'JM Churn', 'EE Churn', 'EE Churn', 'ES Churn', 'IC Churn',\n",
    "                                 'SM Churn','IS Churn', 'AC Churn', 'JM Churn', 'EE Churn', 'EE Churn', 'ES Churn', 'IC Churn',\n",
    "                                 'SM Churn','IS Churn', 'AC Churn', 'JM Churn', 'EE Churn', 'EE Churn', 'ES Churn', 'IC Churn',\n",
    "                                 'SM Churn','IS Churn', 'AC Churn', 'JM Churn','EE Churn', 'EE Churn', 'ES Churn', 'IC Churn',\n",
    "                                 'SM Churn','IS Churn', 'AC Churn', 'JM Churn', 'EE Churn', 'EE Churn', 'ES Churn', 'IC Churn',\n",
    "                                 'SM Churn','IS Churn', 'AC Churn', 'JM Churn', 'EE Churn', 'EE Churn', 'ES Churn', 'IC Churn',\n",
    "                                 'SM Churn','IS Churn', 'AC Churn', 'JM Churn', 'EE Churn', 'EE Churn', 'ES Churn', 'IC Churn',\n",
    "                                 'SM Churn','IS Churn', 'AC Churn', 'JM Churn'])\n",
    "\n",
    "\n",
    "fig = ff.create_scatterplotmatrix(dataframe, diag='box', index='Customer-Segment',\n",
    "                                  height=500, width=800)\n",
    "py.iplot(fig, filename='Employee Churn Data')"
   ]
  },
  {
   "cell_type": "markdown",
   "metadata": {},
   "source": [
    "The data is pretty straightforward, calculated on a monthly basis. Each column represents the company's employees segmented by hierarchy in the manner below. \n",
    "\n",
    "EE - Experienced Employee,\n",
    "ES - Experienced Supervisor,\n",
    "EM - Experienced Manager,\n",
    "JM - Junior Management,\n",
    "AC - Customer Account Analyst,\n",
    "IS - Inexperienced Supervisor,\n",
    "SM - Senior Management,\n",
    "JE - Junior Employee.\n",
    "\n",
    "Data is segmented by employees working on either domestic or international accounts, or both, as well as by their respective management ranks. "
   ]
  },
  {
   "cell_type": "markdown",
   "metadata": {},
   "source": [
    "Churn for Senior Management employees and Experienced Supervisors is greater for those working solely on domestic accounts - this comes as no surprise, given the increasing demand and competitive salaries for experienced account managers in the US market right now.\n",
    "\n",
    "\n",
    "Customer Account Analysts are exhibiting greater churn among those working on both domestic and international accounts - this could be due to the fact that they can demand increasingly greater salaries on the market, due to higher experience. "
   ]
  },
  {
   "cell_type": "markdown",
   "metadata": {},
   "source": [
    "#### Absolute Employee Churn"
   ]
  },
  {
   "cell_type": "code",
   "execution_count": 84,
   "metadata": {},
   "outputs": [
    {
     "data": {
      "text/html": [
       "<iframe id=\"igraph\" scrolling=\"no\" style=\"border:none;\" seamless=\"seamless\" src=\"https://plot.ly/~KyleOS/51.embed\" height=\"525\" width=\"100%\"></iframe>"
      ],
      "text/plain": [
       "<plotly.tools.PlotlyDisplay object>"
      ]
     },
     "execution_count": 84,
     "metadata": {},
     "output_type": "execute_result"
    }
   ],
   "source": [
    "tls.embed('https://plot.ly/~KyleOS/51')"
   ]
  },
  {
   "cell_type": "markdown",
   "metadata": {},
   "source": [
    "As a percentage, total employee churn is at 17% over the past 3 years. This is up from 11% over the preceeding 3-year period. The improving global economy & subsequent rising market competition has resulted in greater bargaining power among our employee base - particularly among our more experienced management teams.\n",
    "\n",
    "The comapany's continuing conservative policy towards salary and additonal bonuses & benefits is contributing to a rising employee turnover. While this is nothing new among our inexperienced hires or even at the junior management level, the growing outflow of experienced managers is worrying."
   ]
  },
  {
   "cell_type": "markdown",
   "metadata": {},
   "source": [
    "#### Predicted Churn Rates"
   ]
  },
  {
   "cell_type": "markdown",
   "metadata": {},
   "source": [
    "The predicted rates are calculated over the next 60 months.\n",
    "\n",
    "We have also provided a prediction of churn for the next 60 months using a modest regression model on the last 3 years of data. "
   ]
  },
  {
   "cell_type": "code",
   "execution_count": 91,
   "metadata": {},
   "outputs": [],
   "source": [
    "import plotly.plotly as py\n",
    "from plotly.graph_objs import *\n",
    "py.sign_in('KyleOS', 'l0f1C52Wn3pRvVu3N9q9')\n",
    "\n",
    "\n",
    "trace1 = {\n",
    "  \"name\": \"EE churn rate\", \n",
    "  \"type\": \"scatter\", \n",
    "  \"uid\": \"7fd738\", \n",
    "  \"xsrc\": \"KyleOS:24:8dedca\", \n",
    "  \"ysrc\": \"KyleOS:24:01ff35\"\n",
    "}\n",
    "trace2 = {\n",
    "  \"name\": \"ES churn rate\", \n",
    "  \"type\": \"scatter\", \n",
    "  \"uid\": \"e83cff\", \n",
    "  \"xsrc\": \"KyleOS:24:8dedca\", \n",
    "  \"ysrc\": \"KyleOS:24:ca6767\"\n",
    "}\n",
    "trace3 = {\n",
    "  \"name\": \"SM churn rate\", \n",
    "  \"type\": \"scatter\", \n",
    "  \"uid\": \"c2e337\", \n",
    "  \"xsrc\": \"KyleOS:24:8dedca\", \n",
    "  \"ysrc\": \"KyleOS:24:7f2db4\"\n",
    "}\n",
    "trace4 = {\n",
    "  \"name\": \"JE churn rate\", \n",
    "  \"type\": \"scatter\", \n",
    "  \"uid\": \"99fccb\", \n",
    "  \"xsrc\": \"KyleOS:24:8dedca\", \n",
    "  \"ysrc\": \"KyleOS:24:aa417d\"\n",
    "}\n",
    "trace5 = {\n",
    "  \"name\": \"IS churn rate\", \n",
    "  \"type\": \"scatter\", \n",
    "  \"uid\": \"987476\", \n",
    "  \"xsrc\": \"KyleOS:24:8dedca\", \n",
    "  \"ysrc\": \"KyleOS:24:78fb75\"\n",
    "}\n",
    "trace6 = {\n",
    "  \"name\": \"AC churn rate\", \n",
    "  \"type\": \"scatter\", \n",
    "  \"uid\": \"a4f1b2\", \n",
    "  \"xsrc\": \"KyleOS:24:8dedca\", \n",
    "  \"ysrc\": \"KyleOS:24:6d0611\"\n",
    "}\n",
    "trace7 = {\n",
    "  \"name\": \"IC churn rate\", \n",
    "  \"type\": \"scatter\", \n",
    "  \"uid\": \"c27c21\", \n",
    "  \"xsrc\": \"KyleOS:24:8dedca\", \n",
    "  \"ysrc\": \"KyleOS:24:98df0d\"\n",
    "}\n",
    "\n",
    "data = py.get_figure(\"https://plot.ly/~KyleOS/40/\").get_data()\n",
    "\n",
    "layout = {\n",
    "  \"autosize\": True, \n",
    "  \"height\": 399, \n",
    "  \"showlegend\": True, \n",
    "  \"width\": 626, \n",
    "  \"xaxis\": {\n",
    "    \"autorange\": True, \n",
    "    \"range\": [1, 60.95], \n",
    "    \"type\": \"linear\"\n",
    "  }, \n",
    "  \"yaxis\": {\n",
    "    \"autorange\": True, \n",
    "    \"range\": [-0.0215218333333, 0.648234833333], \n",
    "    \"type\": \"linear\"\n",
    "  }\n",
    "}\n",
    "fig = Figure(data=data, layout=layout)"
   ]
  },
  {
   "cell_type": "code",
   "execution_count": 92,
   "metadata": {},
   "outputs": [
    {
     "data": {
      "text/html": [
       "<iframe id=\"igraph\" scrolling=\"no\" style=\"border:none;\" seamless=\"seamless\" src=\"https://plot.ly/~KyleOS/44.embed\" height=\"525\" width=\"100%\"></iframe>"
      ],
      "text/plain": [
       "<plotly.tools.PlotlyDisplay object>"
      ]
     },
     "execution_count": 92,
     "metadata": {},
     "output_type": "execute_result"
    }
   ],
   "source": [
    "tls.embed('https://plot.ly/~KyleOS/44')"
   ]
  },
  {
   "cell_type": "markdown",
   "metadata": {},
   "source": [
    "Worringly, the rising rates of predicted churn are related to our more experienced employees and those in senior management, as they continue to seek higher pay elsewhere as the economy continues to grow.\n",
    "\n",
    "To improve retention, our recommendation is to increase salaries at top management levels to current market levels among our domestic competitors, and to increase performance-related bonuses. \n",
    "For mid-to-senior level management, salaries also need to be increased significantly. If the company's churn continues at its existing rate, profitability will enivitably begin to fall, which will hamper our ability to raise pay rates in the future."
   ]
  }
 ],
 "metadata": {
  "kernelspec": {
   "display_name": "Python 3",
   "language": "python",
   "name": "python3"
  },
  "language_info": {
   "codemirror_mode": {
    "name": "ipython",
    "version": 3
   },
   "file_extension": ".py",
   "mimetype": "text/x-python",
   "name": "python",
   "nbconvert_exporter": "python",
   "pygments_lexer": "ipython3",
   "version": "3.5.2"
  }
 },
 "nbformat": 4,
 "nbformat_minor": 2
}
